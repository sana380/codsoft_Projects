{
 "cells": [
  {
   "cell_type": "code",
   "execution_count": 1,
   "id": "ae94ae4a",
   "metadata": {},
   "outputs": [],
   "source": [
    "import random\n",
    "import string"
   ]
  },
  {
   "cell_type": "code",
   "execution_count": 2,
   "id": "2d7b73b0",
   "metadata": {},
   "outputs": [
    {
     "name": "stdout",
     "output_type": "stream",
     "text": [
      "Wellcome to the password generator\n"
     ]
    }
   ],
   "source": [
    "print(\"Wellcome to the password generator\")"
   ]
  },
  {
   "cell_type": "code",
   "execution_count": null,
   "id": "19c42d9b",
   "metadata": {},
   "outputs": [],
   "source": [
    "def main():\n",
    "    \n",
    "    lenght=int(input(\"Enter the lenght of password you want:\"))\n",
    "    lowerdigits=string.ascii_lowercase\n",
    "    upperdigits=string.ascii_uppercase\n",
    "    digitsd=string.digits\n",
    "    symbolD=string.punctuation\n",
    "    combine=lowerdigits+upperdigits+digitsd+symbolD\n",
    "    x=random.sample(combine,lenght)\n",
    "    password=\"\".join(x)\n",
    "    print(password)\n",
    "    main()\n",
    "main()"
   ]
  },
  {
   "cell_type": "code",
   "execution_count": null,
   "id": "98850a5f",
   "metadata": {},
   "outputs": [],
   "source": [
    "\n",
    "\n"
   ]
  }
 ],
 "metadata": {
  "kernelspec": {
   "display_name": "Python 3 (ipykernel)",
   "language": "python",
   "name": "python3"
  },
  "language_info": {
   "codemirror_mode": {
    "name": "ipython",
    "version": 3
   },
   "file_extension": ".py",
   "mimetype": "text/x-python",
   "name": "python",
   "nbconvert_exporter": "python",
   "pygments_lexer": "ipython3",
   "version": "3.10.9"
  }
 },
 "nbformat": 4,
 "nbformat_minor": 5
}

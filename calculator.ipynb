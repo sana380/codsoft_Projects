{
 "cells": [
  {
   "cell_type": "markdown",
   "id": "46d4e2b2",
   "metadata": {},
   "source": [
    "calculator for basic operation(addition, subtration, multiply,divison)"
   ]
  },
  {
   "cell_type": "code",
   "execution_count": 34,
   "id": "c220087c",
   "metadata": {},
   "outputs": [
    {
     "name": "stdout",
     "output_type": "stream",
     "text": [
      "addition=+, subtration=-, multiply=*,divison=/\n"
     ]
    }
   ],
   "source": [
    "print('addition=+, subtration=-, multiply=*,divison=/')"
   ]
  },
  {
   "cell_type": "code",
   "execution_count": 23,
   "id": "afd84520",
   "metadata": {},
   "outputs": [
    {
     "name": "stdout",
     "output_type": "stream",
     "text": [
      "enter the number:6\n"
     ]
    }
   ],
   "source": [
    "num1=int(input(\"enter the number:\"))"
   ]
  },
  {
   "cell_type": "code",
   "execution_count": 24,
   "id": "930b40ee",
   "metadata": {},
   "outputs": [
    {
     "name": "stdout",
     "output_type": "stream",
     "text": [
      "enter the number:8\n"
     ]
    }
   ],
   "source": [
    "num2=int(input(\"enter the number:\"))"
   ]
  },
  {
   "cell_type": "code",
   "execution_count": 31,
   "id": "72949825",
   "metadata": {},
   "outputs": [
    {
     "name": "stdout",
     "output_type": "stream",
     "text": [
      "enter the opr..(+,-,*,/)-\n"
     ]
    }
   ],
   "source": [
    "opr=(input(\"enter the opr..(+,-,*,/)\"))"
   ]
  },
  {
   "cell_type": "code",
   "execution_count": 33,
   "id": "4bf9be0a",
   "metadata": {},
   "outputs": [
    {
     "name": "stdout",
     "output_type": "stream",
     "text": [
      "-2\n"
     ]
    }
   ],
   "source": [
    "if opr==\"+\":\n",
    "    print(num1+num2)\n",
    "elif opr==\"-\":\n",
    "    print(num1-num2)\n",
    "elif opr==\"*\":\n",
    "    print(num1*num2)\n",
    "elif opr==\"/\":\n",
    "    print(num1/num2)\n",
    "else:\n",
    "    print(\"the operater is invilid\")"
   ]
  },
  {
   "cell_type": "code",
   "execution_count": null,
   "id": "0c86ad4e",
   "metadata": {},
   "outputs": [],
   "source": []
  }
 ],
 "metadata": {
  "kernelspec": {
   "display_name": "Python 3 (ipykernel)",
   "language": "python",
   "name": "python3"
  },
  "language_info": {
   "codemirror_mode": {
    "name": "ipython",
    "version": 3
   },
   "file_extension": ".py",
   "mimetype": "text/x-python",
   "name": "python",
   "nbconvert_exporter": "python",
   "pygments_lexer": "ipython3",
   "version": "3.10.9"
  }
 },
 "nbformat": 4,
 "nbformat_minor": 5
}
